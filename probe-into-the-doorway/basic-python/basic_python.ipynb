{
 "cells": [
  {
   "cell_type": "markdown",
   "id": "02092ba1",
   "metadata": {},
   "source": [
    "## 基本数据类型"
   ]
  },
  {
   "cell_type": "code",
   "execution_count": 2,
   "id": "89b1bb45",
   "metadata": {},
   "outputs": [
    {
     "name": "stdout",
     "output_type": "stream",
     "text": [
      "2\n",
      "['d', 'f']\n",
      "[3, 3, 2]\n",
      "[2, 2]\n",
      "(1, 2)\n",
      "a is 456\n",
      "a is 456\n",
      "a is 456, b is 456.0, c is def, d is [3, 3, 2, 2, 1], e is {'a': 1, 'b': 2, 'c': 3}, f is {1, 2, 3}, g is (1, 2)\n",
      "c://a\\b\\c//\n",
      "<class 'int'> 1\n",
      "<class 'tuple'> (1,)\n"
     ]
    }
   ],
   "source": [
    "a = 123\n",
    "a = int(\"456\")\n",
    "b = 123.\n",
    "b = float(\"456\")\n",
    "c = \"abc\"\n",
    "c = 'def'\n",
    "tmp = c.find(\"f\")\n",
    "print(tmp)\n",
    "\n",
    "array = c.split(\"e\")\n",
    "print(array)\n",
    "\n",
    "d = list()\n",
    "d = [3, 3, 2, 2, 1]\n",
    "print(d[:3])\n",
    "print(d[-3:-1])\n",
    "\n",
    "e = dict()\n",
    "e = {'a' : 1, 'b' : 2, 'c' : 3}\n",
    "f = set(d)\n",
    "g = tuple(d)\n",
    "g = (1, 2)\n",
    "print(g)\n",
    "\n",
    "h = \"a is %d\" % a\n",
    "print(h)\n",
    "\n",
    "h = \"a is {}\".format(a)\n",
    "print(h)\n",
    "\n",
    "h = f\"a is {a}, b is {b}, c is {c}, d is {d}, e is {e}, f is {f}, g is {g}\"\n",
    "print(h)\n",
    "\n",
    "print(r\"c://a\\b\\c//\")\n",
    "\n",
    "t = (1)\n",
    "print(type(t), t)\n",
    "\n",
    "t = (1,)\n",
    "print(type(t), t)"
   ]
  },
  {
   "cell_type": "markdown",
   "id": "5b996679",
   "metadata": {},
   "source": [
    "## 基本语法"
   ]
  },
  {
   "cell_type": "code",
   "execution_count": 48,
   "id": "470bff88",
   "metadata": {},
   "outputs": [
    {
     "name": "stdout",
     "output_type": "stream",
     "text": [
      "abc\n",
      "abc\n",
      "0\n",
      "1\n",
      "[0, 1, 2, 3, 4, 5, 6, 7, 8, 9]\n",
      "0, 3\n",
      "1, 2\n",
      "2, 5\n",
      "(0, 3)\n",
      "(1, 2)\n",
      "(2, 5)\n",
      "[5, 7]\n",
      "1\n"
     ]
    }
   ],
   "source": [
    "b = 1\n",
    "if b == 1 or b == 3:\n",
    "    print(\"abc\")\n",
    "elif b == 2:\n",
    "    print(\"abcd\")\n",
    "else:\n",
    "    print(\"abcdef\")\n",
    "\n",
    "while a:\n",
    "    print(\"abc\")\n",
    "    break\n",
    "\n",
    "#for var in list/tuple/支持iter的类\n",
    "for i in range(2):\n",
    "    print(i)\n",
    "print(list(range(10)))\n",
    "\n",
    "var = [3, 2, 5]\n",
    "for index, elem in enumerate(var):\n",
    "    print(f\"{index}, {elem}\")\n",
    "    \n",
    "#从这里可以看出，上面的for循环就是tuple拆包的过程\n",
    "for index in enumerate(var):\n",
    "    print(f\"{index}\")\n",
    "\n",
    "a = [item + 2 for item in var if item > 2]\n",
    "print(a)\n",
    "\n",
    "# a = isok ? 1 : 2\n",
    "isok = True\n",
    "a = 1 if isok else 2\n",
    "print(a)\n"
   ]
  },
  {
   "cell_type": "markdown",
   "id": "c076758e",
   "metadata": {},
   "source": [
    "## 函数"
   ]
  },
  {
   "cell_type": "code",
   "execution_count": 47,
   "id": "fae9c51a",
   "metadata": {},
   "outputs": [
    {
     "name": "stdout",
     "output_type": "stream",
     "text": [
      "1\n",
      "123\n",
      "456\n",
      "a = 4, b = 5, c = 6\n",
      "a = 4, b = 5, c = 6\n",
      "a = 4, b = 5, c = 6\n",
      "args0 (33, 55)\n",
      "args1 {'w': 333}\n",
      "w = 333\n",
      "a is 1, b is 2\n"
     ]
    }
   ],
   "source": [
    "# 实现在其他地方\n",
    "def func():\n",
    "    pass\n",
    "\n",
    "def func1(a, b, c):\n",
    "    global d\n",
    "    print(a)\n",
    "    print(d)\n",
    "    d = 456\n",
    "\n",
    "def func2(a, b, c):\n",
    "    print(f\"a = {a}, b = {b}, c = {c}\")\n",
    "\n",
    "def final(w):\n",
    "    print(f\"w = {w}\")\n",
    "    \n",
    "def func3(a, b, *args0, **args1):\n",
    "    print(\"args0\", args0)\n",
    "    print(\"args1\", args1)\n",
    "    final(**args1)\n",
    "    \n",
    "def func4():\n",
    "    return 1, 2\n",
    "    \n",
    "d = 123\n",
    "func1(1, 2, 3)\n",
    "print(d)\n",
    "func2(4, 5, 6)\n",
    "func2(*[4, 5, 6])\n",
    "func2(**{'a' : 4, 'b' : 5, 'c' : 6})\n",
    "func3(1, 2, 33, 55, w=333)\n",
    "a, b = func4()\n",
    "print(f\"a is {a}, b is {b}\")"
   ]
  },
  {
   "cell_type": "markdown",
   "id": "ec09c7d3",
   "metadata": {},
   "source": [
    "## 类"
   ]
  },
  {
   "cell_type": "code",
   "execution_count": 68,
   "id": "31531ab6",
   "metadata": {},
   "outputs": [
    {
     "name": "stdout",
     "output_type": "stream",
     "text": [
      "construct: name hkl\n",
      "30\n",
      "person hkl call\n",
      "abc  ccc\n",
      "__main__\n",
      "hello\n",
      "['.ipynb_checkpoints', 'basic_python.ipynb']\n",
      "Return a list containing the names of the files in the directory.\n",
      "\n",
      "path can be specified as either str, bytes, or a path-like object.  If path is bytes,\n",
      "  the filenames returned will also be bytes; in all other circumstances\n",
      "  the filenames returned will be str.\n",
      "If path is None, uses the path='.'.\n",
      "On some platforms, path may also be specified as an open file descriptor;\\\n",
      "  the file descriptor must refer to a directory.\n",
      "  If this functionality is unavailable, using it raises NotImplementedError.\n",
      "\n",
      "The list is in arbitrary order.  It does not include the special\n",
      "entries '.' and '..' even if they are present in the directory.\n"
     ]
    }
   ],
   "source": [
    "import os\n",
    "class Person:\n",
    "    def __init__(self, name):\n",
    "        print(f\"construct: name {name}\")\n",
    "        self.name = name\n",
    "    \n",
    "    def call(self):\n",
    "        print(\"person {} call\".format(self.name))\n",
    "        \n",
    "    def __getitem__(self, item):\n",
    "        return \"abc\" + item\n",
    "\n",
    "person = Person(\"hkl\")\n",
    "person.age = 30\n",
    "print(person.age)\n",
    "\n",
    "person.call()\n",
    "\n",
    "print(person[\"  ccc\"])\n",
    "\n",
    "print(__name__)\n",
    "\n",
    "if __name__ == \"__main__\":\n",
    "    print(\"hello\")\n",
    "    print(os.listdir(\".\"))\n",
    "    #print(os.listdir.__doc__)\n"
   ]
  },
  {
   "cell_type": "markdown",
   "id": "9d819ce8",
   "metadata": {},
   "source": [
    "## 冷门操作"
   ]
  },
  {
   "cell_type": "code",
   "execution_count": 79,
   "id": "a1439617",
   "metadata": {
    "scrolled": true
   },
   "outputs": [
    {
     "name": "stdout",
     "output_type": "stream",
     "text": [
      "enter MyWith\n",
      "in with\n",
      "None\n",
      "exit MyWith\n",
      "{1, 2, 3, 5}\n",
      "True\n",
      "{1, 2, 3, 5, 9, 10}\n",
      "{3, 5}\n",
      "{1, 2, 9, 10}\n",
      "[(1, 'a'), (2, 'b'), (3, 'c')]\n",
      "[1, 2, 3, 5]\n"
     ]
    }
   ],
   "source": [
    "class MyWith:\n",
    "    def __enter__(self):\n",
    "        print(\"enter MyWith\")\n",
    "    \n",
    "    def __exit__(self, exc_type, exc_val, exc_tb):\n",
    "        print(\"exit MyWith\")\n",
    "\n",
    "with MyWith() as my:\n",
    "    print(\"in with\")\n",
    "    print(my)\n",
    "\n",
    "#with open(\"a.txt\", \"w\") as f:\n",
    "#    f.write(\"abc\")\n",
    "\n",
    "a = [1, 1, 2, 3, 5, 5]\n",
    "b = [3, 5, 9, 10]\n",
    "print(set(a))\n",
    "print(2 in set(a))\n",
    "print(set(a) | set(b))\n",
    "print(set(a) & set(b))\n",
    "print(set(a) ^ set(b))\n",
    "\n",
    "a = [1, 2, 3]\n",
    "b = [\"a\", \"b\", \"c\"]\n",
    "print(list(zip(a,b)))\n",
    "\n",
    "a = [1, 3, 2, 5]\n",
    "a.sort()\n",
    "print(a)"
   ]
  },
  {
   "cell_type": "markdown",
   "id": "7a5474a5",
   "metadata": {},
   "source": [
    "## numpy 简单操作"
   ]
  },
  {
   "cell_type": "code",
   "execution_count": 2,
   "id": "172bc900",
   "metadata": {
    "scrolled": true
   },
   "outputs": [
    {
     "data": {
      "text/plain": [
       "-1"
      ]
     },
     "execution_count": 2,
     "metadata": {},
     "output_type": "execute_result"
    }
   ],
   "source": [
    "import numpy as np\n",
    "import cv2\n",
    "\n",
    "a = np.zeros((100, 100, 3), np.uint8)\n",
    "a[:, :, 1] = 255\n",
    "\n",
    "cv2.imshow(\"image\", a)\n",
    "cv2.waitKey()\n",
    "\n"
   ]
  }
 ],
 "metadata": {
  "kernelspec": {
   "display_name": "Python [conda env:pytorch] *",
   "language": "python",
   "name": "conda-env-pytorch-py"
  },
  "language_info": {
   "codemirror_mode": {
    "name": "ipython",
    "version": 3
   },
   "file_extension": ".py",
   "mimetype": "text/x-python",
   "name": "python",
   "nbconvert_exporter": "python",
   "pygments_lexer": "ipython3",
   "version": "3.6.13"
  }
 },
 "nbformat": 4,
 "nbformat_minor": 5
}
